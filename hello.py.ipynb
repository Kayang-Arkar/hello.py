{
 "cells": [
  {
   "cell_type": "code",
   "execution_count": 6,
   "id": "c1607ad2",
   "metadata": {},
   "outputs": [
    {
     "name": "stdout",
     "output_type": "stream",
     "text": [
      "What's your name: Kayang\n",
      "Kayang\n",
      "What's your age: 20\n",
      "20\n",
      "OK\n"
     ]
    }
   ],
   "source": [
    "Name = input (\"What's your name: \")\n",
    "print(Name)\n",
    "Name.upper()\n",
    "\n",
    "Age = int(input (\"What's your age: \"))\n",
    "print(Age)\n",
    "\n",
    "if Age >=18:\n",
    "    print(\"OK\")\n",
    "else:\n",
    "    print(\"Meh..\")"
   ]
  },
  {
   "cell_type": "code",
   "execution_count": null,
   "id": "50caccf2",
   "metadata": {},
   "outputs": [],
   "source": []
  }
 ],
 "metadata": {
  "kernelspec": {
   "display_name": "Python 3",
   "language": "python",
   "name": "python3"
  },
  "language_info": {
   "codemirror_mode": {
    "name": "ipython",
    "version": 3
   },
   "file_extension": ".py",
   "mimetype": "text/x-python",
   "name": "python",
   "nbconvert_exporter": "python",
   "pygments_lexer": "ipython3",
   "version": "3.8.8"
  }
 },
 "nbformat": 4,
 "nbformat_minor": 5
}
